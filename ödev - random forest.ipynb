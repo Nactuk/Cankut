{
 "cells": [
  {
   "cell_type": "code",
   "execution_count": 2,
   "id": "c6ea61f2",
   "metadata": {},
   "outputs": [
    {
     "name": "stdout",
     "output_type": "stream",
     "text": [
      "Mean Accuracy for each fold: [0.75767918 0.80136986 0.80479452 0.85616438 0.88013699]\n",
      "Mean Accuracy: 0.820028986862406\n"
     ]
    },
    {
     "data": {
      "text/plain": [
       "RandomForestClassifier()"
      ]
     },
     "execution_count": 2,
     "metadata": {},
     "output_type": "execute_result"
    }
   ],
   "source": [
    "import pandas as pd\n",
    "import numpy as np\n",
    "import seaborn as sns\n",
    "import statsmodels.api as sm\n",
    "import matplotlib.pyplot as plt\n",
    "from sklearn.model_selection import cross_val_score\n",
    "from sklearn.ensemble import RandomForestClassifier\n",
    "from sklearn.metrics import accuracy_score, classification_report\n",
    "\n",
    "# Veriyi yükleme\n",
    "df = pd.read_csv(\"C:/Users/egeca/Downloads/archive/seattle-weather.csv\")\n",
    "\n",
    "# Model oluşturma (RandomForestClassifier)\n",
    "model = RandomForestClassifier()\n",
    "\n",
    "# Veriyi hazırlama\n",
    "X = df[['wind', 'temp_max', 'temp_min', 'precipitation']]\n",
    "y = df['weather']  # 'weather' sütunu hava durumu tahmin etmek için kullanılacak\n",
    "\n",
    "# Çapraz doğrulama yapma\n",
    "cv_scores = cross_val_score(model, X, y, cv=5)  # Burada scoring parametresine gerek yok, varsayılan olarak doğruluk kullanılır\n",
    "mean_accuracy = np.mean(cv_scores)\n",
    "print(f'Mean Accuracy for each fold: {cv_scores}')\n",
    "print(f'Mean Accuracy: {mean_accuracy}')\n",
    "# Modeli eğitme\n",
    "model.fit(X, y)"
   ]
  },
  {
   "cell_type": "code",
   "execution_count": 7,
   "id": "67327515",
   "metadata": {},
   "outputs": [
    {
     "name": "stdout",
     "output_type": "stream",
     "text": [
      "Rüzgar değerini girin: 7\n",
      "Maksimum sıcaklık değerini girin: 5\n",
      "Minimum sıcaklık değerini girin: -5\n",
      "Yağış değerini girin: 0.01\n",
      "Rüzgar: 7, Maksimum Sıcaklık: 5, Minimum Sıcaklık: -5, Yağış: 0.01, Tahmin Edilen Hava Durumu: sun\n"
     ]
    }
   ],
   "source": [
    "def predict_weather():\n",
    "    wind = input(\"Rüzgar değerini girin: \")\n",
    "    temp_max = input(\"Maksimum sıcaklık değerini girin: \")\n",
    "    temp_min = input(\"Minimum sıcaklık değerini girin: \")\n",
    "    precipitation = input(\"Yağış değerini girin: \")\n",
    "    tahmin = model.predict([[wind, temp_max, temp_min, precipitation]])\n",
    "    return f'Rüzgar: {wind}, Maksimum Sıcaklık: {temp_max}, Minimum Sıcaklık: {temp_min}, Yağış: {precipitation}, Tahmin Edilen Hava Durumu: {tahmin[0]}'\n",
    "print(predict_weather())"
   ]
  },
  {
   "cell_type": "code",
   "execution_count": null,
   "id": "bfca41f2",
   "metadata": {},
   "outputs": [],
   "source": []
  },
  {
   "cell_type": "code",
   "execution_count": null,
   "id": "502c96a5",
   "metadata": {},
   "outputs": [],
   "source": []
  },
  {
   "cell_type": "code",
   "execution_count": null,
   "id": "94fa7f93",
   "metadata": {},
   "outputs": [],
   "source": []
  }
 ],
 "metadata": {
  "kernelspec": {
   "display_name": "Python 3",
   "language": "python",
   "name": "python3"
  },
  "language_info": {
   "codemirror_mode": {
    "name": "ipython",
    "version": 3
   },
   "file_extension": ".py",
   "mimetype": "text/x-python",
   "name": "python",
   "nbconvert_exporter": "python",
   "pygments_lexer": "ipython3",
   "version": "3.8.8"
  }
 },
 "nbformat": 4,
 "nbformat_minor": 5
}
